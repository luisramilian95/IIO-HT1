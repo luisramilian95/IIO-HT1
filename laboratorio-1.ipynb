{
 "cells": [
  {
   "attachments": {},
   "cell_type": "markdown",
   "metadata": {},
   "source": [
    "# Git \n",
    "\n",
    "Git como un sistema de control de versiones es una herramienta utilizada para llevar control de los cambios realizados al código fuente de los proyectos, ayuda a mantener un historial de cada uno de los cambios realizados y facilita la colaboración con diferentes personas del equipo de trabajo. \n",
    " \n",
    "## Modelo de Git\n",
    " \n",
    "Git tiene un modelo que permite diferentes características del control de versiones como mantenimiento del historial, soporte para ramas y colaboración al ser un sistema distribuido \n",
    " \n",
    "### Snapshots \n",
    " \n",
    "El historial en Git es una colección de archivos y folders adentro del directoria raíz como una serie de snapshots. En la terminología un archivo se llama `blob`, que es un conjunto de bytes. Y un directorio es llamado como `tree`. Esto se puede dentro de este proyecto de la siguiente forma. \n",
    "\n",
    "\n",
    "![trees-and-blobs](images/trees-and-blobs.png)\n",
    "\n",
    "En Git el historial es es un grafo directo acíclico de cada uno de los snapshots cada uno de los snapshot es un commit es una captura de los archivos que se desean registrar\n",
    "\n",
    "![GAD](images/GAD.png)\n",
    "\n",
    "\n",
    "Toda la información del repositorio se encuentra almacenada dentro de la carpeta `.git`.\n",
    "\n",
    "- Para iniciar el repositorio nos colocamos dentro de la carpeta de de nuestro proyecto con el código fuente. \n",
    "\n",
    "```bash\n",
    "cd laboratorio_1\n",
    "git init\n",
    "```\n",
    "\n",
    "- Dentro de la carpeta `.git` podemos encontrar las siguientes carpetas \n",
    "\n",
    "para realizar un snapshot primero agregaremos los archivos del workdirectory al staging area \n",
    "\n",
    "```bash\n",
    "git add laboratorio-1.ipynb \n",
    "git add images/.\n",
    "```\n",
    "\n",
    "Al realizar el comando `git add` podemos ver los objetos creados dentro la carpeta `.git/objects`\n",
    "\n",
    "![trees-and-blobs](images/objects-git-add.png)\n",
    "\n",
    "\n"
   ]
  }
 ],
 "metadata": {
  "language_info": {
   "name": "python"
  },
  "orig_nbformat": 4
 },
 "nbformat": 4,
 "nbformat_minor": 2
}
